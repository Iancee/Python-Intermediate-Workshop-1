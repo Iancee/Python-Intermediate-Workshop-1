{
 "cells": [
  {
   "cell_type": "markdown",
   "metadata": {},
   "source": [
    "# Python Basics\n",
    "\n",
    "**Syntax**\n",
    "\n",
    "Python reads code line by line and uses key words, characters and indenting to store data and execute functions.\n",
    "Import the Python libraries used in a script at the top.  Then define global variables and functions.\n",
    "Use comments to document what each section of code is doing.\n",
    "\n",
    "\n",
    "\n"
   ]
  },
  {
   "cell_type": "code",
   "execution_count": null,
   "metadata": {},
   "outputs": [],
   "source": [
    "#Script to loop through a folder of shapefiles and clip them using an input buffer\n",
    "import os\n",
    "import arcpy\n",
    "\n",
    "#Set environmental workspace\n",
    "arcpy.env.workspace = r\"C:\\Users\\ian.conroy\\Desktop\\Bay Geo Classes\\Python Class\\Intermediate Class\\GIS_Data\\SF_SHPs\"\n",
    "\n",
    "#Set location for output of geoprocessing tools\n",
    "output_folder = r\"C:\\Users\\ian.conroy\\Desktop\\Bay Geo Classes\\Python Class\\Output_Folder\"\n",
    "\n",
    "#Create folder path of the folder that will be created to store the clipped shapefiles\n",
    "location_analysis_fld = os.path.join(output_folder, 'Location_Analysis')\n",
    "\n",
    "#Use the os module to create a new folder\n",
    "os.mkdir(location_analysis_fld)\n",
    "\n",
    "#Get a list of the shapefiles that will be looped through\n",
    "shp_list = arcpy.ListFeatureClasses()\n",
    "\n",
    "#Input shapefile of the point of interest\n",
    "starting_point = r\"C:\\Users\\ian.conroy\\Desktop\\Bay Geo Classes\\Python Class\\GIS_Data\\WhileBuffer\\Point.shp\"\n",
    "\n",
    "#Create buffer of point of interest\n",
    "print('Creating buffer')\n",
    "starting_point_buffer = os.path.join(location_analysis_fld, 'Location_buffer.shp')\n",
    "arcpy.Buffer_analysis(starting_point, starting_point_buffer, \"1 Mile\")\n",
    "\n",
    "for shp in shp_list:\n",
    "    #Clipping all our shapefiles\n",
    "    print('Clipping', shp)\n",
    "    clip_shp = os.path.join(location_analysis_fld, shp[:-4] + '_Clipped.shp')\n",
    "    arcpy.Clip_analysis(shp, starting_point_buffer, clip_shp)"
   ]
  },
  {
   "cell_type": "markdown",
   "metadata": {},
   "source": [
    "# Data Types \n",
    "\n",
    "**Numbers** - Integer, floating point, complex numbers and Boolean\n",
    "\n",
    "**Lists** - container for data/objects\n",
    "\n",
    "**Tuples** - container for data/objects\n",
    "\n",
    "**Strings** - text\n",
    "\n",
    "**Dictionaries** - container for data/objects, like a row in a spreadsheet\n",
    "\n",
    "**Sets** - container for data/objects\n",
    "\n",
    "**Arcpy Feature Layer** - A temporary version of a shapefile, feature class or table that allows for spatial and attribute selections.  Any edits to the Feature Layer will be reflected in the source shapefile, feature class or table."
   ]
  },
  {
   "cell_type": "markdown",
   "metadata": {},
   "source": [
    "# Programming Concepts\n",
    "\n",
    "* Creating variables and assigning data to them.  x = 1\n",
    "* Data Operators, +, -, * etc...\n",
    "* Comparison Operators, ==, <, >=\n",
    "* Looping, for, while\n",
    "* Conditional Statements, if, elif, else\n",
    "* Python built in functions\n",
    "* Defining custom functions\n"
   ]
  },
  {
   "cell_type": "markdown",
   "metadata": {},
   "source": [
    "# Cursors\n",
    "\n",
    "Arcpy has 3 types of Cursors, Search, Update and Insert.  These can be used to iterate through the table of a shapefile/feature class/feature table and access the values of each row in the table.\n",
    "\n",
    "You also need to specify what fields to include in the Cursor.\n",
    "\n",
    "This returns an iterator object that can be looped through like a list.\n",
    "\n",
    "Search Cursor: https://pro.arcgis.com/en/pro-app/arcpy/data-access/searchcursor-class.htm\n",
    "\n",
    "Insert Cursor: https://pro.arcgis.com/en/pro-app/arcpy/data-access/insertcursor-class.htm\n",
    "\n",
    "Update Cursor: https://pro.arcgis.com/en/pro-app/arcpy/data-access/updatecursor-class.htm"
   ]
  },
  {
   "cell_type": "code",
   "execution_count": null,
   "metadata": {},
   "outputs": [],
   "source": [
    "#Example of creating a Search Cursor, note that da.SearchCursor is the newest version of this\n",
    "import arcpy\n",
    "\n",
    "shp = r\"C:\\Users\\ian.conroy\\Desktop\\Bay Geo Classes\\Python Class\\Intermediate Class\\GIS_Data\\SF_SHPs\\SF_Streets.shp\"\n",
    "flds = ['streetname', 'active', 'classcode', 'SHAPE@LENGTH']\n",
    "\n",
    "cursor = arcpy.da.SearchCursor(shp, flds)\n"
   ]
  },
  {
   "cell_type": "code",
   "execution_count": null,
   "metadata": {
    "scrolled": true
   },
   "outputs": [],
   "source": [
    "cursor"
   ]
  },
  {
   "cell_type": "code",
   "execution_count": null,
   "metadata": {},
   "outputs": [],
   "source": [
    "for row in cursor:\n",
    "    print(type(row), row)"
   ]
  },
  {
   "cell_type": "code",
   "execution_count": null,
   "metadata": {},
   "outputs": [],
   "source": [
    "cursor"
   ]
  },
  {
   "cell_type": "code",
   "execution_count": null,
   "metadata": {},
   "outputs": [],
   "source": [
    "type(cursor)"
   ]
  },
  {
   "cell_type": "code",
   "execution_count": null,
   "metadata": {},
   "outputs": [],
   "source": [
    "#Once the iterator has been iterated through, it needs to be reset before you can iterate again\n",
    "for row in cursor:\n",
    "    if row[1] == 0:\n",
    "        print(row)"
   ]
  },
  {
   "cell_type": "code",
   "execution_count": null,
   "metadata": {},
   "outputs": [],
   "source": [
    "#Using the reset method\n",
    "cursor.reset()"
   ]
  },
  {
   "cell_type": "code",
   "execution_count": null,
   "metadata": {},
   "outputs": [],
   "source": [
    "#Now we can iterate again!\n",
    "for row in cursor:\n",
    "    if row[1] == 0:\n",
    "        print(row)"
   ]
  },
  {
   "cell_type": "code",
   "execution_count": null,
   "metadata": {},
   "outputs": [],
   "source": [
    "row"
   ]
  },
  {
   "cell_type": "code",
   "execution_count": null,
   "metadata": {},
   "outputs": [],
   "source": [
    "#The cursors are stored in the RAM memory, if you are working with large tables, you may want to delete them after you're done.\n",
    "del row\n",
    "del cursor"
   ]
  },
  {
   "cell_type": "code",
   "execution_count": null,
   "metadata": {},
   "outputs": [],
   "source": [
    "cursor"
   ]
  },
  {
   "cell_type": "code",
   "execution_count": null,
   "metadata": {},
   "outputs": [],
   "source": [
    "#Using the with keyword, we can create an object and use it.  We'll go over this more is session 2.\n",
    "\n",
    "with arcpy.da.UpdateCursor(shp, flds) as cursor:\n",
    "    for row in cursor:\n",
    "        print(type(row), row)"
   ]
  },
  {
   "cell_type": "code",
   "execution_count": null,
   "metadata": {},
   "outputs": [],
   "source": [
    "row"
   ]
  },
  {
   "cell_type": "code",
   "execution_count": null,
   "metadata": {},
   "outputs": [],
   "source": [
    "#Update the last row to mixed case using the title string method and the updateRow Cursor method\n",
    "with arcpy.da.UpdateCursor(shp, flds) as cursor:\n",
    "    for row in cursor:\n",
    "        if row[0] == 'IRONWOOD WAY':\n",
    "            row[0] = row[0].title()\n",
    "            cursor.updateRow(row)"
   ]
  },
  {
   "cell_type": "code",
   "execution_count": null,
   "metadata": {},
   "outputs": [],
   "source": [
    "#We can use a search cursor to focus analysis on a feature by feature basis\n",
    "\n",
    "loc_int = r\"C:\\Users\\ian.conroy\\Desktop\\Bay Geo Classes\\Python Class\\Intermediate Class\\GIS_Data\\Locations_of_Interest.shp\"\n",
    "output_loc = r\"C:\\Users\\ian.conroy\\Desktop\\Bay Geo Classes\\Python Class\\Intermediate Class\\Output\"\n",
    "\n",
    "arcpy.MakeFeatureLayer_management(loc_int, \"loc_int_lyr\")\n",
    "\n",
    "with arcpy.da.SearchCursor(loc_int, '*') as point_cursor:\n",
    "    for row in point_cursor:\n",
    "        query = \"Location = '{}'\".format(row[2])\n",
    "        print(query)\n",
    "        arcpy.SelectLayerByAttribute_management(\"loc_int_lyr\", \"NEW_SELECTION\", query)\n",
    "        arcpy.FeatureClassToFeatureClass_conversion(\"loc_int_lyr\", output_loc, row[2] + '.shp')"
   ]
  },
  {
   "cell_type": "markdown",
   "metadata": {},
   "source": [
    "# In Memory Workspace\n",
    "\n",
    "The in memory workspace allows you to create temporary spatial layers that exist in the RAM memory.  This can make scripts run faster and also avoid creating shapefiles/feature classes for every step of a script.  Once the script or Python session ends, the layers will no longer exist.\n",
    "\n",
    "Not all tools will work with the in memory workspace, so you may need to adjust your methods in some cases.  It's also not possible to create folders within the in memory workspace.\n",
    "\n",
    "\"in_memory\" is the temporary workspace for ArcMap, \"memory\" is the new version used in ArcPro, keep this in mind if you are developing tools people will use with ArcMap.  The \"in_memory\" workspace also doesn't support subtypes or domains.  \n",
    "\n",
    "These temporary workspaces are great for storing intermediary layers, but if you are working with large datasets, you may want to delete them once they are no longer needed to free up space in your RAM.\n",
    "\n",
    "Example of format for creating a temporary buffer feature\n",
    "\n",
    "**ArcPro** - r\"memory\\Buffer\"\n",
    "\n",
    "**ArcMap** - r\"in_memory\\Buffer\"\n"
   ]
  },
  {
   "cell_type": "code",
   "execution_count": null,
   "metadata": {},
   "outputs": [],
   "source": [
    "#Let's use the memory workspace to save a temporary layer in some geoprocessing\n",
    "#We can use the over write output setting to overwrite the temporary layer\n",
    "\n",
    "import os\n",
    "sf_business = r\"C:\\Users\\ian.conroy\\Desktop\\Bay Geo Classes\\Python Class\\Intermediate Class\\GIS_Data\\SF_SHPs\\SF_Businesses.shp\"\n",
    "\n",
    "arcpy.env.overwriteOutput = True\n",
    "\n",
    "with arcpy.da.SearchCursor(loc_int, 'Location') as point_cursor:\n",
    "    for row in point_cursor:\n",
    "        query = \"Location = '{}'\".format(row[0])\n",
    "        print(query)\n",
    "        arcpy.SelectLayerByAttribute_management(\"loc_int_lyr\", \"NEW_SELECTION\", query)\n",
    "        arcpy.Buffer_analysis(\"loc_int_lyr\", r\"memory\\Buffer\", \"1 Mile\")\n",
    "        arcpy.Clip_analysis(sf_business, r\"memory\\Buffer\", os.path.join(output_loc, row[0] + '_Businesses.shp'))\n",
    "      "
   ]
  },
  {
   "cell_type": "code",
   "execution_count": null,
   "metadata": {},
   "outputs": [],
   "source": [
    "#We can delete the temporary layer when we don't need it anymore\n",
    "#Only really needed if you are using large datasets and will continue in your Python session/script\n",
    "arcpy.Delete_management(r\"memory\\Buffer\")    "
   ]
  }
 ],
 "metadata": {
  "kernelspec": {
   "display_name": "Python 3",
   "language": "python",
   "name": "python3"
  },
  "language_info": {
   "codemirror_mode": {
    "name": "ipython",
    "version": 3
   },
   "file_extension": ".py",
   "mimetype": "text/x-python",
   "name": "python",
   "nbconvert_exporter": "python",
   "pygments_lexer": "ipython3",
   "version": "3.6.9"
  }
 },
 "nbformat": 4,
 "nbformat_minor": 2
}
