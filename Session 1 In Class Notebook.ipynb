{
 "cells": [
  {
   "cell_type": "code",
   "execution_count": null,
   "metadata": {},
   "outputs": [],
   "source": [
    "#Review Problem 1\n",
    "#Write some code to get a list of shapefiles in our SF_SHPs folder\n",
    "#Loop through the list and print the shapefile name\n",
    "\n",
    "\n",
    "\n",
    "\n",
    "\n",
    "\n",
    "\n"
   ]
  },
  {
   "cell_type": "code",
   "execution_count": null,
   "metadata": {},
   "outputs": [],
   "source": [
    "#Review Problem 2\n",
    "#We want to use the Locations_of_Interest.shp to create shapefiles of the nearby features in the SF_SHPs folder\n",
    "#Your code should\n",
    "#Create a new folder for the output of the spatial operations\n",
    "#Spatially join the neighborhood to the points\n",
    "#Buffer the points with neighborhood info by 1 mile and then clip all the SF_SHPS using that buffer\n",
    "\n",
    "\n",
    "\n",
    "\n",
    "\n",
    "\n",
    "\n",
    "\n"
   ]
  },
  {
   "cell_type": "code",
   "execution_count": null,
   "metadata": {},
   "outputs": [],
   "source": [
    "#Search Cursor Problem 1\n",
    "#Write some code to create a search cursor to iterate through the SF_Business shapefile and print all the Pizza Restaurants\n",
    "#dba_name is the business name attribute field\n",
    "\n",
    "\n",
    "\n",
    "\n",
    "\n",
    "\n",
    "\n",
    "\n"
   ]
  },
  {
   "cell_type": "code",
   "execution_count": null,
   "metadata": {},
   "outputs": [],
   "source": [
    "#Search Cursor Problem 2\n",
    "#Building on Review Problem 2, use a search cursor to analyze each point seperately\n",
    "#Your code should\n",
    "#Spatially join the neighborhood to the Locations_of_Interest.shp\n",
    "#Create a search cursor of the output shp from above\n",
    "#Create a new folder for each point in the shp\n",
    "#Do the buffer and clip operation and save outputs to the individual point folders\n",
    "\n",
    "\n",
    "\n",
    "\n",
    "\n",
    "\n"
   ]
  },
  {
   "cell_type": "code",
   "execution_count": null,
   "metadata": {},
   "outputs": [],
   "source": [
    "#Memory Workspace Problem 1\n",
    "#Write some code to buffer the Locations_of_Interest.shp by 2500 FEET, use the memory workspace\n",
    "#Then clip the SF_Bike_Network.shp using the memory buffer.\n",
    "\n",
    "\n",
    "\n",
    "\n",
    "\n"
   ]
  },
  {
   "cell_type": "code",
   "execution_count": null,
   "metadata": {},
   "outputs": [],
   "source": [
    "#Memory Workspace Problem 2\n",
    "#Building on Search Cursor Problem 2, use the memory workspace for the spatial join and the buffer steps\n",
    "\n",
    "\n",
    "\n",
    "\n",
    "\n",
    "\n"
   ]
  }
 ],
 "metadata": {
  "kernelspec": {
   "display_name": "Python 3",
   "language": "python",
   "name": "python3"
  },
  "language_info": {
   "codemirror_mode": {
    "name": "ipython",
    "version": 3
   },
   "file_extension": ".py",
   "mimetype": "text/x-python",
   "name": "python",
   "nbconvert_exporter": "python",
   "pygments_lexer": "ipython3",
   "version": "3.6.9"
  }
 },
 "nbformat": 4,
 "nbformat_minor": 2
}
